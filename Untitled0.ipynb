{
  "nbformat": 4,
  "nbformat_minor": 0,
  "metadata": {
    "colab": {
      "provenance": [],
      "authorship_tag": "ABX9TyPlLqBcw67Aq+HFwTfEA8Et",
      "include_colab_link": true
    },
    "kernelspec": {
      "name": "python3",
      "display_name": "Python 3"
    },
    "language_info": {
      "name": "python"
    }
  },
  "cells": [
    {
      "cell_type": "markdown",
      "metadata": {
        "id": "view-in-github",
        "colab_type": "text"
      },
      "source": [
        "<a href=\"https://colab.research.google.com/github/robertooca/Project_English/blob/main/Untitled0.ipynb\" target=\"_parent\"><img src=\"https://colab.research.google.com/assets/colab-badge.svg\" alt=\"Open In Colab\"/></a>"
      ]
    },
    {
      "cell_type": "code",
      "execution_count": null,
      "metadata": {
        "id": "SxZ_RBJ1yKXj"
      },
      "outputs": [],
      "source": [
        "#hide\n",
        "! [ -e /content ] && pip install -Uqq fastbook\n",
        "import fastbook\n",
        "fastbook.setup_book()"
      ]
    },
    {
      "cell_type": "code",
      "source": [
        "#hide\n",
        "from fastbook import *\n",
        "from fastai.vision.widgets import *"
      ],
      "metadata": {
        "id": "0W98XRUGyYTA"
      },
      "execution_count": null,
      "outputs": []
    },
    {
      "cell_type": "code",
      "source": [
        "path = Path()\n",
        "path.ls(file_exts='.pkl')"
      ],
      "metadata": {
        "id": "ExKz90Kbyn_-"
      },
      "execution_count": null,
      "outputs": []
    },
    {
      "cell_type": "code",
      "source": [
        "btn_upload = widgets.FileUpload()\n",
        "btn_upload"
      ],
      "metadata": {
        "id": "tUQO2otZyx0o"
      },
      "execution_count": null,
      "outputs": []
    },
    {
      "cell_type": "code",
      "source": [
        "out_pl = widgets.Output()"
      ],
      "metadata": {
        "id": "Eul6MWbgzDcF"
      },
      "execution_count": null,
      "outputs": []
    },
    {
      "cell_type": "code",
      "source": [
        "lbl_pred = widgets.Label()"
      ],
      "metadata": {
        "id": "aDPuOoOxzH8l"
      },
      "execution_count": null,
      "outputs": []
    },
    {
      "cell_type": "code",
      "source": [
        "btn_run = widgets.Button(description='Classify')"
      ],
      "metadata": {
        "id": "fV6jBknjzNDT"
      },
      "execution_count": null,
      "outputs": []
    },
    {
      "cell_type": "code",
      "source": [
        "def predicting(img_input):\n",
        "  image = PILImage.create(upload_btn.data[-1])\n",
        "  output.clear_output()\n",
        "  with output:\n",
        "    display(image.to_thumb(128, 128))\n",
        "\n",
        "  label_pred, index_pred, prob = model.predict(image)\n",
        "\n",
        "  label.value = f\"Well, i'm {prob[index_pred]*100:.02f}% sure this is {label_pred}! Awasome!\"\n",
        "\n",
        "if(upload_btn._counter != 0 ):\n",
        "  upload_btn = widgets.FileUpload()\n",
        "     \n",
        "\n",
        "upload_btn.observe(predicting, names=['data'])\n",
        "\n",
        "\n",
        "display(VBox([widgets.Label(\"Upload the picture of messi, neymar or cristiano ronaldo:\"), upload_btn, output, label]))"
      ],
      "metadata": {
        "id": "1kwHwmVfznb5"
      },
      "execution_count": null,
      "outputs": []
    }
  ]
}